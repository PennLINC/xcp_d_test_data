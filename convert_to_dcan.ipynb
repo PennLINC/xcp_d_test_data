{
 "cells": [
  {
   "cell_type": "markdown",
   "metadata": {},
   "source": [
    "# Convert fMRIPrep test data to DCAN format\n",
    "\n",
    "To do:\n",
    "\n",
    "1. Remove HCP-style surf files from ingestion functions, since XCP-D calculates them automatically. (done)\n",
    "2. Run morphometry and mesh surface files through anatomical workflow to get fsLR-32k GIFTIs.\n",
    "3. Warp aparcaseg in native space to MNI152NLin6Asym-2mm space/resolution.\n",
    "4. Warp ribbon in native space to MNI152NLin6Asym-2mm space/resolution.\n",
    "5. Rename desc-ribbon_T1w to desc-ribbon_mask. (done)\n",
    "6. Rename smoothwm.surf.gii to white.surf.gii. (done)"
   ]
  },
  {
   "cell_type": "code",
   "execution_count": 1,
   "metadata": {},
   "outputs": [],
   "source": [
    "import os\n",
    "import shutil\n",
    "\n",
    "import pandas as pd"
   ]
  },
  {
   "cell_type": "code",
   "execution_count": 3,
   "metadata": {},
   "outputs": [
    {
     "name": "stdout",
     "output_type": "stream",
     "text": [
      "File DNE: sub-1648798153/ses-PNC1/anat/sub-1648798153_ses-PNC1_acq-refaced_space-MNI152NLin6Asym_res-2_desc-ribbon_mask.nii.gz\n",
      "File DNE: sub-1648798153/ses-PNC1/anat/sub-1648798153_ses-PNC1_acq-refaced_space-MNI152NLin6Asym_res-2_desc-aparcaseg_dseg.nii.gz\n",
      "File DNE: sub-1648798153/ses-PNC1/anat/sub-1648798153_ses-PNC1_acq-refaced_space-fsLR_den-32k_hemi-R_pial.surf.gii\n",
      "File DNE: sub-1648798153/ses-PNC1/anat/sub-1648798153_ses-PNC1_acq-refaced_space-fsLR_den-32k_hemi-L_pial.surf.gii\n",
      "File DNE: sub-1648798153/ses-PNC1/anat/sub-1648798153_ses-PNC1_acq-refaced_space-fsLR_den-32k_hemi-R_white.surf.gii\n",
      "File DNE: sub-1648798153/ses-PNC1/anat/sub-1648798153_ses-PNC1_acq-refaced_space-fsLR_den-32k_hemi-L_white.surf.gii\n",
      "File DNE: sub-1648798153/ses-PNC1/anat/sub-1648798153_ses-PNC1_acq-refaced_space-fsLR_den-32k_hemi-R_thickness.shape.gii\n",
      "File DNE: sub-1648798153/ses-PNC1/anat/sub-1648798153_ses-PNC1_acq-refaced_space-fsLR_den-32k_hemi-L_thickness.shape.gii\n",
      "File DNE: sub-1648798153/ses-PNC1/anat/sub-1648798153_ses-PNC1_acq-refaced_space-fsLR_den-32k_hemi-R_curv.shape.gii\n",
      "File DNE: sub-1648798153/ses-PNC1/anat/sub-1648798153_ses-PNC1_acq-refaced_space-fsLR_den-32k_hemi-L_curv.shape.gii\n",
      "File DNE: sub-1648798153/ses-PNC1/anat/sub-1648798153_ses-PNC1_acq-refaced_space-fsLR_den-32k_hemi-R_sulc.shape.gii\n",
      "File DNE: sub-1648798153/ses-PNC1/anat/sub-1648798153_ses-PNC1_acq-refaced_space-fsLR_den-32k_hemi-L_sulc.shape.gii\n"
     ]
    }
   ],
   "source": [
    "fmriprep_dir = \"data/fmriprep-reduced/\"\n",
    "dcan_dir = \"data/derivatives/dcan/\"\n",
    "hcp_dir = \"data/derivatives/hcp/\"\n",
    "df = pd.read_table(\"sub-1648798153_scans.tsv\")\n",
    "fmriprep_to_dcan = pd.Series(df[\"dcan\"].values,index=df[\"fmriprep\"]).to_dict()\n",
    "fmriprep_to_hcp = pd.Series(df[\"hcp\"].values,index=df[\"fmriprep\"]).to_dict()\n",
    "for fname in df[\"fmriprep\"].tolist():\n",
    "    in_file = os.path.join(fmriprep_dir, fname)\n",
    "    if not os.path.isfile(in_file):\n",
    "        print(f\"File DNE: {fname}\")\n",
    "    else:\n",
    "        dcan_file = os.path.join(dcan_dir, fmriprep_to_dcan[fname])\n",
    "        hcp_file = os.path.join(hcp_dir, fmriprep_to_hcp[fname])\n",
    "        os.makedirs(os.path.dirname(dcan_file), exist_ok=True)\n",
    "        os.makedirs(os.path.dirname(hcp_file), exist_ok=True)\n",
    "        shutil.copyfile(in_file, dcan_file)\n",
    "        shutil.copyfile(in_file, hcp_file)"
   ]
  },
  {
   "cell_type": "code",
   "execution_count": null,
   "metadata": {},
   "outputs": [],
   "source": [
    "fmriprep_to_dcan[fname]"
   ]
  },
  {
   "cell_type": "code",
   "execution_count": null,
   "metadata": {},
   "outputs": [],
   "source": []
  }
 ],
 "metadata": {
  "kernelspec": {
   "display_name": "Python 3",
   "language": "python",
   "name": "python3"
  },
  "language_info": {
   "codemirror_mode": {
    "name": "ipython",
    "version": 3
   },
   "file_extension": ".py",
   "mimetype": "text/x-python",
   "name": "python",
   "nbconvert_exporter": "python",
   "pygments_lexer": "ipython3",
   "version": "3.8.5"
  }
 },
 "nbformat": 4,
 "nbformat_minor": 4
}
