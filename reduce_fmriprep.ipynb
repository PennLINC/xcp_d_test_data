{
 "cells": [
  {
   "cell_type": "markdown",
   "metadata": {},
   "source": [
    "# Reduce fMRIPrep derivatives to 60 volumes"
   ]
  },
  {
   "cell_type": "code",
   "execution_count": 1,
   "metadata": {},
   "outputs": [],
   "source": [
    "import os\n",
    "from glob import glob\n",
    "\n",
    "import nibabel as nb\n",
    "import pandas as pd"
   ]
  },
  {
   "cell_type": "code",
   "execution_count": 2,
   "metadata": {},
   "outputs": [],
   "source": [
    "fmriprep_dir = \"data/fmriprep-reduced/\"\n",
    "func_dir = os.path.abspath(os.path.join(fmriprep_dir, \"sub-1648798153/ses-PNC1/func/\"))"
   ]
  },
  {
   "cell_type": "code",
   "execution_count": 3,
   "metadata": {},
   "outputs": [],
   "source": [
    "nii_files = sorted(glob(os.path.join(func_dir, \"*_bold.nii.gz\")))\n",
    "for nii_file in nii_files:\n",
    "    nii_img = nb.load(nii_file)\n",
    "    nii_data = nii_img.get_fdata()\n",
    "    nii_data = nii_data[..., :60]\n",
    "    nii_img = nb.Nifti1Image(nii_data, nii_img.affine, nii_img.header)\n",
    "    nii_img.to_filename(nii_file)"
   ]
  },
  {
   "cell_type": "code",
   "execution_count": 4,
   "metadata": {},
   "outputs": [],
   "source": [
    "cii_files = sorted(glob(os.path.join(func_dir, \"*_bold.dtseries.nii\")))\n",
    "for cii_file in cii_files:\n",
    "    cii_img = nb.load(cii_file)\n",
    "    cii_data = cii_img.get_fdata()\n",
    "    cii_data = cii_data[:60, :]\n",
    "    time_axis, brain_model_axis = [cii_img.header.get_axis(i) for i in range(cii_img.ndim)]\n",
    "    time_axis = time_axis[:60]\n",
    "    header = nb.cifti2.Cifti2Header.from_axes((time_axis, brain_model_axis))\n",
    "    cii_img = nb.Cifti2Image(cii_data, header=header, nifti_header=cii_img.nifti_header)\n",
    "    cii_img.to_filename(cii_file)"
   ]
  },
  {
   "cell_type": "code",
   "execution_count": 5,
   "metadata": {},
   "outputs": [],
   "source": [
    "tsv_files = sorted(glob(os.path.join(func_dir, \"*_timeseries.tsv\")))\n",
    "for tsv_file in tsv_files:\n",
    "    tsv_df = pd.read_table(tsv_file)\n",
    "    tsv_df = tsv_df.loc[:59]\n",
    "    tsv_df.to_csv(tsv_file, sep=\"\\t\", index=False, na_rep=\"n/a\")"
   ]
  }
 ],
 "metadata": {
  "kernelspec": {
   "display_name": "Python 3",
   "language": "python",
   "name": "python3"
  },
  "language_info": {
   "codemirror_mode": {
    "name": "ipython",
    "version": 3
   },
   "file_extension": ".py",
   "mimetype": "text/x-python",
   "name": "python",
   "nbconvert_exporter": "python",
   "pygments_lexer": "ipython3",
   "version": "3.8.5"
  }
 },
 "nbformat": 4,
 "nbformat_minor": 4
}
